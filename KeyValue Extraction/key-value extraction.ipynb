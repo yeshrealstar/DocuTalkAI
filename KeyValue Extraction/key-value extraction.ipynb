{
 "cells": [
  {
   "cell_type": "raw",
   "id": "d67e0e78",
   "metadata": {},
   "source": [
    "AIM: Key-value extraction is a common technique used to identify and extract important information from business documents.\n",
    "\n",
    "Hence we are using power of LLMs to extract key-value information from the documents. This can be used in following ways.\n",
    "    1. Business users: Rather than quering for each and every information, Key-value extraction will be so handy to look at the high and deep level information at a single go.\n",
    "    2. Developers: Rather than storing the documents as it is, We encourage developers store these extracted key-value pairs in the database, which will easy for further analytics"
   ]
  },
  {
   "cell_type": "code",
   "execution_count": 1,
   "id": "ce018dd7",
   "metadata": {},
   "outputs": [],
   "source": [
    "#libraries"
   ]
  },
  {
   "cell_type": "code",
   "execution_count": 2,
   "id": "595ac8e9",
   "metadata": {},
   "outputs": [],
   "source": [
    "# prompt\n",
    "# prompt engineering plays a major role in analysing the relevant information from the documents \n",
    "prompt = \"\"\"\n",
    "Identify and extract all named key-value information from the following text, including:\n",
    "\n",
    "Person: Names of people, including full names, titles, and roles (e.g., \"Mateo Gomez\", \"Nickolaus Schulz\", \"caretaker\")\n",
    "Organization: Names of companies, institutions, and groups (e.g., \"Contoso General Hospital\", \"Contoso Restaurant\")\n",
    "Location: Geographical locations, addresses, and landmarks (e.g., \"Hollywood Boulevard\", \"Los Angeles\", \"Santa Monica Pier\")\n",
    "Date/Time: Specific dates, times, durations, and expressions of time (e.g., \"August 17th, 2022\", \"7:45 PM\", \"last Thursday\")\n",
    "Quantity: Numerical values, including numbers, ordinals, and percentages (e.g., \"28-year-old\", \"first\", \"95 percent\")\n",
    "Product: Names of products, objects, and items (e.g., \"Stent\", \"Chicken parmigiana\", \"Surf and turf platter\")\n",
    "Event: References to specific events or activities (e.g., \"car accident\", \"trip\", \"anniversary\")\n",
    "Skill: Mentions of skills or abilities (e.g., \"supervision\")\n",
    "Other categories: Consider any other relevant entity types that may appear in the text.\n",
    "For each entity, provide:\n",
    "\n",
    "Text: The exact text of the entity as it appears in the text.\n",
    "Category: The category of the entity (e.g., Person, Location, Date/Time).\n",
    "Subcategory (optional): A more specific subcategory, if applicable (e.g., GPE for geo-political entities, Date for dates, Time for times).\n",
    "Offset: The starting character index of the entity within the text.\n",
    "Length: The number of characters in the entity.\n",
    "Confidence score: A numerical value indicating the model's confidence in the entity extraction (e.g., 0.0 to 1.0).\n",
    "Format the results as a JSON object that adheres to the following structure:\n",
    "\n",
    "JSON\n",
    "{\n",
    "    \"documents\": [\n",
    "        {\n",
    "            \"id\": \"id__1234\",  // Unique document identifier\n",
    "            \"entities\": [\n",
    "                {\n",
    "                    \"text\": \"Entity text\",\n",
    "                    \"category\": \"Entity category\",\n",
    "                    \"subcategory\": \"Entity subcategory (optional)\",\n",
    "                    \"offset\": 0,\n",
    "                    \"length\": 10,\n",
    "                    \"confidenceScore\": 0.95\n",
    "                },\n",
    "                // ... other entities\n",
    "            ]\n",
    "        }\n",
    "    ],\n",
    "    \"errors\": []  // List of any errors encountered during extraction\n",
    "}\n",
    "\n",
    "\"\"\""
   ]
  },
  {
   "cell_type": "code",
   "execution_count": 3,
   "id": "9a604670",
   "metadata": {},
   "outputs": [],
   "source": [
    "# loading the document"
   ]
  },
  {
   "cell_type": "code",
   "execution_count": 4,
   "id": "63a0a751",
   "metadata": {},
   "outputs": [],
   "source": [
    "# OCR to get text"
   ]
  },
  {
   "cell_type": "code",
   "execution_count": 5,
   "id": "fb855643",
   "metadata": {},
   "outputs": [],
   "source": [
    "# OpenAI | LLM to extract key-value pairs"
   ]
  },
  {
   "cell_type": "code",
   "execution_count": null,
   "id": "aae7d189",
   "metadata": {},
   "outputs": [],
   "source": []
  }
 ],
 "metadata": {
  "kernelspec": {
   "display_name": "Python 3 (ipykernel)",
   "language": "python",
   "name": "python3"
  },
  "language_info": {
   "codemirror_mode": {
    "name": "ipython",
    "version": 3
   },
   "file_extension": ".py",
   "mimetype": "text/x-python",
   "name": "python",
   "nbconvert_exporter": "python",
   "pygments_lexer": "ipython3",
   "version": "3.11.5"
  }
 },
 "nbformat": 4,
 "nbformat_minor": 5
}
